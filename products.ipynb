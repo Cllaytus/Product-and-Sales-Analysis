{
 "cells": [
  {
   "cell_type": "code",
   "execution_count": 1,
   "metadata": {},
   "outputs": [],
   "source": [
    "import pandas as pd\n",
    "import numpy as np\n",
    "import matplotlib.style as style\n",
    "import matplotlib.pyplot as plt"
   ]
  },
  {
   "cell_type": "code",
   "execution_count": 2,
   "metadata": {},
   "outputs": [
    {
     "data": {
      "text/html": [
       "<div>\n",
       "<style scoped>\n",
       "    .dataframe tbody tr th:only-of-type {\n",
       "        vertical-align: middle;\n",
       "    }\n",
       "\n",
       "    .dataframe tbody tr th {\n",
       "        vertical-align: top;\n",
       "    }\n",
       "\n",
       "    .dataframe thead th {\n",
       "        text-align: right;\n",
       "    }\n",
       "</style>\n",
       "<table border=\"1\" class=\"dataframe\">\n",
       "  <thead>\n",
       "    <tr style=\"text-align: right;\">\n",
       "      <th></th>\n",
       "      <th>Date</th>\n",
       "      <th>Day</th>\n",
       "      <th>Month</th>\n",
       "      <th>Year</th>\n",
       "      <th>Customer_Age</th>\n",
       "      <th>Age_Group</th>\n",
       "      <th>Age_Group_NUMBER</th>\n",
       "      <th>Customer_Gender</th>\n",
       "      <th>Country</th>\n",
       "      <th>Product_Category</th>\n",
       "      <th>Order_Quantity</th>\n",
       "      <th>Unit_Cost</th>\n",
       "      <th>Unit_Price</th>\n",
       "      <th>Profit</th>\n",
       "      <th>Cost</th>\n",
       "      <th>Revenue</th>\n",
       "    </tr>\n",
       "  </thead>\n",
       "  <tbody>\n",
       "    <tr>\n",
       "      <th>0</th>\n",
       "      <td>01-01-17</td>\n",
       "      <td>1</td>\n",
       "      <td>January</td>\n",
       "      <td>2017</td>\n",
       "      <td>17</td>\n",
       "      <td>Youth (&lt;25)</td>\n",
       "      <td>1</td>\n",
       "      <td>M</td>\n",
       "      <td>canada</td>\n",
       "      <td>Bikes</td>\n",
       "      <td>2</td>\n",
       "      <td>1519.0</td>\n",
       "      <td>2443.0</td>\n",
       "      <td>1848.0</td>\n",
       "      <td>3038.0</td>\n",
       "      <td>4886.0</td>\n",
       "    </tr>\n",
       "    <tr>\n",
       "      <th>1</th>\n",
       "      <td>01-01-17</td>\n",
       "      <td>1</td>\n",
       "      <td>January</td>\n",
       "      <td>2017</td>\n",
       "      <td>23</td>\n",
       "      <td>Youth (&lt;25)</td>\n",
       "      <td>1</td>\n",
       "      <td>M</td>\n",
       "      <td>Australia</td>\n",
       "      <td>Bikes</td>\n",
       "      <td>2</td>\n",
       "      <td>1252.0</td>\n",
       "      <td>2295.0</td>\n",
       "      <td>2086.0</td>\n",
       "      <td>2504.0</td>\n",
       "      <td>4590.0</td>\n",
       "    </tr>\n",
       "    <tr>\n",
       "      <th>2</th>\n",
       "      <td>01-01-17</td>\n",
       "      <td>1</td>\n",
       "      <td>January</td>\n",
       "      <td>2017</td>\n",
       "      <td>33</td>\n",
       "      <td>Young Adults (25-34)</td>\n",
       "      <td>1</td>\n",
       "      <td>F</td>\n",
       "      <td>France</td>\n",
       "      <td>Bikes</td>\n",
       "      <td>2</td>\n",
       "      <td>2171.0</td>\n",
       "      <td>3578.0</td>\n",
       "      <td>2814.0</td>\n",
       "      <td>4342.0</td>\n",
       "      <td>7156.0</td>\n",
       "    </tr>\n",
       "    <tr>\n",
       "      <th>3</th>\n",
       "      <td>01-01-17</td>\n",
       "      <td>1</td>\n",
       "      <td>January</td>\n",
       "      <td>2017</td>\n",
       "      <td>39</td>\n",
       "      <td>Adults (35-64)</td>\n",
       "      <td>1</td>\n",
       "      <td>M</td>\n",
       "      <td>United States</td>\n",
       "      <td>Bikes</td>\n",
       "      <td>2</td>\n",
       "      <td>713.0</td>\n",
       "      <td>1120.0</td>\n",
       "      <td>814.0</td>\n",
       "      <td>1426.0</td>\n",
       "      <td>2240.0</td>\n",
       "    </tr>\n",
       "    <tr>\n",
       "      <th>4</th>\n",
       "      <td>01-01-17</td>\n",
       "      <td>1</td>\n",
       "      <td>January</td>\n",
       "      <td>2017</td>\n",
       "      <td>42</td>\n",
       "      <td>Adults (35-64)</td>\n",
       "      <td>1</td>\n",
       "      <td>M</td>\n",
       "      <td>United States</td>\n",
       "      <td>Bikes</td>\n",
       "      <td>2</td>\n",
       "      <td>344.0</td>\n",
       "      <td>540.0</td>\n",
       "      <td>392.0</td>\n",
       "      <td>688.0</td>\n",
       "      <td>1080.0</td>\n",
       "    </tr>\n",
       "  </tbody>\n",
       "</table>\n",
       "</div>"
      ],
      "text/plain": [
       "       Date  Day    Month  Year  Customer_Age             Age_Group  \\\n",
       "0  01-01-17    1  January  2017            17           Youth (<25)   \n",
       "1  01-01-17    1  January  2017            23           Youth (<25)   \n",
       "2  01-01-17    1  January  2017            33  Young Adults (25-34)   \n",
       "3  01-01-17    1  January  2017            39        Adults (35-64)   \n",
       "4  01-01-17    1  January  2017            42        Adults (35-64)   \n",
       "\n",
       "   Age_Group_NUMBER Customer_Gender        Country Product_Category  \\\n",
       "0                 1               M         canada            Bikes   \n",
       "1                 1               M      Australia            Bikes   \n",
       "2                 1               F         France            Bikes   \n",
       "3                 1               M  United States            Bikes   \n",
       "4                 1               M  United States            Bikes   \n",
       "\n",
       "   Order_Quantity  Unit_Cost  Unit_Price  Profit    Cost  Revenue  \n",
       "0               2     1519.0      2443.0  1848.0  3038.0   4886.0  \n",
       "1               2     1252.0      2295.0  2086.0  2504.0   4590.0  \n",
       "2               2     2171.0      3578.0  2814.0  4342.0   7156.0  \n",
       "3               2      713.0      1120.0   814.0  1426.0   2240.0  \n",
       "4               2      344.0       540.0   392.0   688.0   1080.0  "
      ]
     },
     "execution_count": 2,
     "metadata": {},
     "output_type": "execute_result"
    }
   ],
   "source": [
    "sales_df = pd.read_csv(\"./product_sales.csv\", skipinitialspace= True)\n",
    "sales_df.head()"
   ]
  },
  {
   "cell_type": "markdown",
   "metadata": {},
   "source": [
    "Checking the data type of each colums"
   ]
  },
  {
   "cell_type": "code",
   "execution_count": 3,
   "metadata": {},
   "outputs": [
    {
     "data": {
      "text/plain": [
       "Date                 object\n",
       "Day                   int64\n",
       "Month                object\n",
       "Year                  int64\n",
       "Customer_Age          int64\n",
       "Age_Group            object\n",
       "Age_Group_NUMBER      int64\n",
       "Customer_Gender      object\n",
       "Country              object\n",
       "Product_Category     object\n",
       "Order_Quantity        int64\n",
       "Unit_Cost           float64\n",
       "Unit_Price          float64\n",
       "Profit              float64\n",
       "Cost                float64\n",
       "Revenue             float64\n",
       "dtype: object"
      ]
     },
     "execution_count": 3,
     "metadata": {},
     "output_type": "execute_result"
    }
   ],
   "source": [
    "sales_df.dtypes\n"
   ]
  },
  {
   "cell_type": "markdown",
   "metadata": {},
   "source": [
    "The date datatype is \"Object\" as data type which is wrong so we'll change it to datetime"
   ]
  },
  {
   "cell_type": "code",
   "execution_count": 4,
   "metadata": {},
   "outputs": [
    {
     "name": "stderr",
     "output_type": "stream",
     "text": [
      "C:\\Users\\USER\\AppData\\Local\\Temp\\ipykernel_13528\\185840757.py:1: UserWarning: Could not infer format, so each element will be parsed individually, falling back to `dateutil`. To ensure parsing is consistent and as-expected, please specify a format.\n",
      "  sales_df['Date'] = sales_df['Date'].astype('datetime64[ns]')\n"
     ]
    },
    {
     "data": {
      "text/plain": [
       "Date                datetime64[ns]\n",
       "Day                          int64\n",
       "Month                       object\n",
       "Year                         int64\n",
       "Customer_Age                 int64\n",
       "Age_Group                   object\n",
       "Age_Group_NUMBER             int64\n",
       "Customer_Gender             object\n",
       "Country                     object\n",
       "Product_Category            object\n",
       "Order_Quantity               int64\n",
       "Unit_Cost                  float64\n",
       "Unit_Price                 float64\n",
       "Profit                     float64\n",
       "Cost                       float64\n",
       "Revenue                    float64\n",
       "dtype: object"
      ]
     },
     "execution_count": 4,
     "metadata": {},
     "output_type": "execute_result"
    }
   ],
   "source": [
    "# Changing the date datatype to datetime format\n",
    "\n",
    "sales_df['Date'] = sales_df['Date'].astype('datetime64[ns]')\n",
    "sales_df.dtypes\n"
   ]
  },
  {
   "cell_type": "code",
   "execution_count": 6,
   "metadata": {},
   "outputs": [
    {
     "data": {
      "text/html": [
       "<div>\n",
       "<style scoped>\n",
       "    .dataframe tbody tr th:only-of-type {\n",
       "        vertical-align: middle;\n",
       "    }\n",
       "\n",
       "    .dataframe tbody tr th {\n",
       "        vertical-align: top;\n",
       "    }\n",
       "\n",
       "    .dataframe thead th {\n",
       "        text-align: right;\n",
       "    }\n",
       "</style>\n",
       "<table border=\"1\" class=\"dataframe\">\n",
       "  <thead>\n",
       "    <tr style=\"text-align: right;\">\n",
       "      <th></th>\n",
       "      <th>Date</th>\n",
       "      <th>Day</th>\n",
       "      <th>Month</th>\n",
       "      <th>Year</th>\n",
       "      <th>Customer_Age</th>\n",
       "      <th>Age_Group</th>\n",
       "      <th>Age_Group_NUMBER</th>\n",
       "      <th>Customer_Gender</th>\n",
       "      <th>Country</th>\n",
       "      <th>Product_Category</th>\n",
       "      <th>Order_Quantity</th>\n",
       "      <th>Unit_Cost</th>\n",
       "      <th>Unit_Price</th>\n",
       "      <th>Profit</th>\n",
       "      <th>Cost</th>\n",
       "      <th>Revenue</th>\n",
       "    </tr>\n",
       "  </thead>\n",
       "  <tbody>\n",
       "    <tr>\n",
       "      <th>0</th>\n",
       "      <td>2017-01-01</td>\n",
       "      <td>1</td>\n",
       "      <td>January</td>\n",
       "      <td>2017</td>\n",
       "      <td>17</td>\n",
       "      <td>Youth (&lt;25)</td>\n",
       "      <td>1</td>\n",
       "      <td>M</td>\n",
       "      <td>canada</td>\n",
       "      <td>Bikes</td>\n",
       "      <td>2</td>\n",
       "      <td>1519.0</td>\n",
       "      <td>2443.0</td>\n",
       "      <td>1848.0</td>\n",
       "      <td>3038.0</td>\n",
       "      <td>4886.0</td>\n",
       "    </tr>\n",
       "    <tr>\n",
       "      <th>1</th>\n",
       "      <td>2017-01-01</td>\n",
       "      <td>1</td>\n",
       "      <td>January</td>\n",
       "      <td>2017</td>\n",
       "      <td>23</td>\n",
       "      <td>Youth (&lt;25)</td>\n",
       "      <td>1</td>\n",
       "      <td>M</td>\n",
       "      <td>Australia</td>\n",
       "      <td>Bikes</td>\n",
       "      <td>2</td>\n",
       "      <td>1252.0</td>\n",
       "      <td>2295.0</td>\n",
       "      <td>2086.0</td>\n",
       "      <td>2504.0</td>\n",
       "      <td>4590.0</td>\n",
       "    </tr>\n",
       "    <tr>\n",
       "      <th>2</th>\n",
       "      <td>2017-01-01</td>\n",
       "      <td>1</td>\n",
       "      <td>January</td>\n",
       "      <td>2017</td>\n",
       "      <td>33</td>\n",
       "      <td>Young Adults (25-34)</td>\n",
       "      <td>1</td>\n",
       "      <td>F</td>\n",
       "      <td>France</td>\n",
       "      <td>Bikes</td>\n",
       "      <td>2</td>\n",
       "      <td>2171.0</td>\n",
       "      <td>3578.0</td>\n",
       "      <td>2814.0</td>\n",
       "      <td>4342.0</td>\n",
       "      <td>7156.0</td>\n",
       "    </tr>\n",
       "    <tr>\n",
       "      <th>3</th>\n",
       "      <td>2017-01-01</td>\n",
       "      <td>1</td>\n",
       "      <td>January</td>\n",
       "      <td>2017</td>\n",
       "      <td>39</td>\n",
       "      <td>Adults (35-64)</td>\n",
       "      <td>1</td>\n",
       "      <td>M</td>\n",
       "      <td>United States</td>\n",
       "      <td>Bikes</td>\n",
       "      <td>2</td>\n",
       "      <td>713.0</td>\n",
       "      <td>1120.0</td>\n",
       "      <td>814.0</td>\n",
       "      <td>1426.0</td>\n",
       "      <td>2240.0</td>\n",
       "    </tr>\n",
       "    <tr>\n",
       "      <th>4</th>\n",
       "      <td>2017-01-01</td>\n",
       "      <td>1</td>\n",
       "      <td>January</td>\n",
       "      <td>2017</td>\n",
       "      <td>42</td>\n",
       "      <td>Adults (35-64)</td>\n",
       "      <td>1</td>\n",
       "      <td>M</td>\n",
       "      <td>United States</td>\n",
       "      <td>Bikes</td>\n",
       "      <td>2</td>\n",
       "      <td>344.0</td>\n",
       "      <td>540.0</td>\n",
       "      <td>392.0</td>\n",
       "      <td>688.0</td>\n",
       "      <td>1080.0</td>\n",
       "    </tr>\n",
       "  </tbody>\n",
       "</table>\n",
       "</div>"
      ],
      "text/plain": [
       "        Date  Day    Month  Year  Customer_Age             Age_Group  \\\n",
       "0 2017-01-01    1  January  2017            17           Youth (<25)   \n",
       "1 2017-01-01    1  January  2017            23           Youth (<25)   \n",
       "2 2017-01-01    1  January  2017            33  Young Adults (25-34)   \n",
       "3 2017-01-01    1  January  2017            39        Adults (35-64)   \n",
       "4 2017-01-01    1  January  2017            42        Adults (35-64)   \n",
       "\n",
       "   Age_Group_NUMBER Customer_Gender        Country Product_Category  \\\n",
       "0                 1               M         canada            Bikes   \n",
       "1                 1               M      Australia            Bikes   \n",
       "2                 1               F         France            Bikes   \n",
       "3                 1               M  United States            Bikes   \n",
       "4                 1               M  United States            Bikes   \n",
       "\n",
       "   Order_Quantity  Unit_Cost  Unit_Price  Profit    Cost  Revenue  \n",
       "0               2     1519.0      2443.0  1848.0  3038.0   4886.0  \n",
       "1               2     1252.0      2295.0  2086.0  2504.0   4590.0  \n",
       "2               2     2171.0      3578.0  2814.0  4342.0   7156.0  \n",
       "3               2      713.0      1120.0   814.0  1426.0   2240.0  \n",
       "4               2      344.0       540.0   392.0   688.0   1080.0  "
      ]
     },
     "execution_count": 6,
     "metadata": {},
     "output_type": "execute_result"
    }
   ],
   "source": [
    "\n",
    "sales_df.head()\n"
   ]
  },
  {
   "cell_type": "markdown",
   "metadata": {},
   "source": [
    "Checked for duplicate data and there are non\n",
    "\n",
    "Checking for null values"
   ]
  },
  {
   "cell_type": "code",
   "execution_count": 7,
   "metadata": {},
   "outputs": [
    {
     "data": {
      "text/plain": [
       "Date                0\n",
       "Day                 0\n",
       "Month               0\n",
       "Year                0\n",
       "Customer_Age        0\n",
       "Age_Group           0\n",
       "Age_Group_NUMBER    0\n",
       "Customer_Gender     0\n",
       "Country             0\n",
       "Product_Category    0\n",
       "Order_Quantity      0\n",
       "Unit_Cost           0\n",
       "Unit_Price          0\n",
       "Profit              0\n",
       "Cost                0\n",
       "Revenue             0\n",
       "dtype: int64"
      ]
     },
     "execution_count": 7,
     "metadata": {},
     "output_type": "execute_result"
    }
   ],
   "source": [
    "sales_df.isna().sum()"
   ]
  },
  {
   "cell_type": "markdown",
   "metadata": {},
   "source": [
    "Checking to see if the column names are correctly spelt"
   ]
  },
  {
   "cell_type": "code",
   "execution_count": 8,
   "metadata": {},
   "outputs": [
    {
     "data": {
      "text/plain": [
       "Index(['Date', 'Day', 'Month', 'Year', 'Customer_Age', 'Age_Group',\n",
       "       'Age_Group_NUMBER', 'Customer_Gender', 'Country', 'Product_Category',\n",
       "       'Order_Quantity', 'Unit_Cost', 'Unit_Price', 'Profit', 'Cost',\n",
       "       'Revenue'],\n",
       "      dtype='object')"
      ]
     },
     "execution_count": 8,
     "metadata": {},
     "output_type": "execute_result"
    }
   ],
   "source": [
    "sales_df.columns"
   ]
  },
  {
   "cell_type": "markdown",
   "metadata": {},
   "source": [
    "We'll be changing AGE_GROUP_NUMBER because it is in caps"
   ]
  },
  {
   "cell_type": "code",
   "execution_count": 10,
   "metadata": {},
   "outputs": [
    {
     "data": {
      "text/html": [
       "<div>\n",
       "<style scoped>\n",
       "    .dataframe tbody tr th:only-of-type {\n",
       "        vertical-align: middle;\n",
       "    }\n",
       "\n",
       "    .dataframe tbody tr th {\n",
       "        vertical-align: top;\n",
       "    }\n",
       "\n",
       "    .dataframe thead th {\n",
       "        text-align: right;\n",
       "    }\n",
       "</style>\n",
       "<table border=\"1\" class=\"dataframe\">\n",
       "  <thead>\n",
       "    <tr style=\"text-align: right;\">\n",
       "      <th></th>\n",
       "      <th>Date</th>\n",
       "      <th>Day</th>\n",
       "      <th>Month</th>\n",
       "      <th>Year</th>\n",
       "      <th>Customer_Age</th>\n",
       "      <th>Age_Group</th>\n",
       "      <th>AgeGroupNumber</th>\n",
       "      <th>Customer_Gender</th>\n",
       "      <th>Country</th>\n",
       "      <th>Product_Category</th>\n",
       "      <th>Order_Quantity</th>\n",
       "      <th>Unit_Cost</th>\n",
       "      <th>Unit_Price</th>\n",
       "      <th>Profit</th>\n",
       "      <th>Cost</th>\n",
       "      <th>Revenue</th>\n",
       "    </tr>\n",
       "  </thead>\n",
       "  <tbody>\n",
       "    <tr>\n",
       "      <th>0</th>\n",
       "      <td>2017-01-01</td>\n",
       "      <td>1</td>\n",
       "      <td>January</td>\n",
       "      <td>2017</td>\n",
       "      <td>17</td>\n",
       "      <td>Youth (&lt;25)</td>\n",
       "      <td>1</td>\n",
       "      <td>M</td>\n",
       "      <td>canada</td>\n",
       "      <td>Bikes</td>\n",
       "      <td>2</td>\n",
       "      <td>1519.0</td>\n",
       "      <td>2443.0</td>\n",
       "      <td>1848.0</td>\n",
       "      <td>3038.0</td>\n",
       "      <td>4886.0</td>\n",
       "    </tr>\n",
       "    <tr>\n",
       "      <th>1</th>\n",
       "      <td>2017-01-01</td>\n",
       "      <td>1</td>\n",
       "      <td>January</td>\n",
       "      <td>2017</td>\n",
       "      <td>23</td>\n",
       "      <td>Youth (&lt;25)</td>\n",
       "      <td>1</td>\n",
       "      <td>M</td>\n",
       "      <td>Australia</td>\n",
       "      <td>Bikes</td>\n",
       "      <td>2</td>\n",
       "      <td>1252.0</td>\n",
       "      <td>2295.0</td>\n",
       "      <td>2086.0</td>\n",
       "      <td>2504.0</td>\n",
       "      <td>4590.0</td>\n",
       "    </tr>\n",
       "    <tr>\n",
       "      <th>2</th>\n",
       "      <td>2017-01-01</td>\n",
       "      <td>1</td>\n",
       "      <td>January</td>\n",
       "      <td>2017</td>\n",
       "      <td>33</td>\n",
       "      <td>Young Adults (25-34)</td>\n",
       "      <td>1</td>\n",
       "      <td>F</td>\n",
       "      <td>France</td>\n",
       "      <td>Bikes</td>\n",
       "      <td>2</td>\n",
       "      <td>2171.0</td>\n",
       "      <td>3578.0</td>\n",
       "      <td>2814.0</td>\n",
       "      <td>4342.0</td>\n",
       "      <td>7156.0</td>\n",
       "    </tr>\n",
       "    <tr>\n",
       "      <th>3</th>\n",
       "      <td>2017-01-01</td>\n",
       "      <td>1</td>\n",
       "      <td>January</td>\n",
       "      <td>2017</td>\n",
       "      <td>39</td>\n",
       "      <td>Adults (35-64)</td>\n",
       "      <td>1</td>\n",
       "      <td>M</td>\n",
       "      <td>United States</td>\n",
       "      <td>Bikes</td>\n",
       "      <td>2</td>\n",
       "      <td>713.0</td>\n",
       "      <td>1120.0</td>\n",
       "      <td>814.0</td>\n",
       "      <td>1426.0</td>\n",
       "      <td>2240.0</td>\n",
       "    </tr>\n",
       "    <tr>\n",
       "      <th>4</th>\n",
       "      <td>2017-01-01</td>\n",
       "      <td>1</td>\n",
       "      <td>January</td>\n",
       "      <td>2017</td>\n",
       "      <td>42</td>\n",
       "      <td>Adults (35-64)</td>\n",
       "      <td>1</td>\n",
       "      <td>M</td>\n",
       "      <td>United States</td>\n",
       "      <td>Bikes</td>\n",
       "      <td>2</td>\n",
       "      <td>344.0</td>\n",
       "      <td>540.0</td>\n",
       "      <td>392.0</td>\n",
       "      <td>688.0</td>\n",
       "      <td>1080.0</td>\n",
       "    </tr>\n",
       "    <tr>\n",
       "      <th>...</th>\n",
       "      <td>...</td>\n",
       "      <td>...</td>\n",
       "      <td>...</td>\n",
       "      <td>...</td>\n",
       "      <td>...</td>\n",
       "      <td>...</td>\n",
       "      <td>...</td>\n",
       "      <td>...</td>\n",
       "      <td>...</td>\n",
       "      <td>...</td>\n",
       "      <td>...</td>\n",
       "      <td>...</td>\n",
       "      <td>...</td>\n",
       "      <td>...</td>\n",
       "      <td>...</td>\n",
       "      <td>...</td>\n",
       "    </tr>\n",
       "    <tr>\n",
       "      <th>113031</th>\n",
       "      <td>2021-12-31</td>\n",
       "      <td>31</td>\n",
       "      <td>December</td>\n",
       "      <td>2021</td>\n",
       "      <td>52</td>\n",
       "      <td>Adults (35-64)</td>\n",
       "      <td>1</td>\n",
       "      <td>F</td>\n",
       "      <td>United Kingdom</td>\n",
       "      <td>Bikes</td>\n",
       "      <td>2</td>\n",
       "      <td>1555.0</td>\n",
       "      <td>2443.0</td>\n",
       "      <td>1776.0</td>\n",
       "      <td>3110.0</td>\n",
       "      <td>4886.0</td>\n",
       "    </tr>\n",
       "    <tr>\n",
       "      <th>113032</th>\n",
       "      <td>2021-12-31</td>\n",
       "      <td>31</td>\n",
       "      <td>December</td>\n",
       "      <td>2021</td>\n",
       "      <td>25</td>\n",
       "      <td>Young Adults (25-34)</td>\n",
       "      <td>1</td>\n",
       "      <td>F</td>\n",
       "      <td>Germany</td>\n",
       "      <td>Bikes</td>\n",
       "      <td>1</td>\n",
       "      <td>713.0</td>\n",
       "      <td>1120.0</td>\n",
       "      <td>407.0</td>\n",
       "      <td>713.0</td>\n",
       "      <td>1120.0</td>\n",
       "    </tr>\n",
       "    <tr>\n",
       "      <th>113033</th>\n",
       "      <td>2021-12-31</td>\n",
       "      <td>31</td>\n",
       "      <td>December</td>\n",
       "      <td>2021</td>\n",
       "      <td>26</td>\n",
       "      <td>Young Adults (25-34)</td>\n",
       "      <td>1</td>\n",
       "      <td>M</td>\n",
       "      <td>Australia</td>\n",
       "      <td>Bikes</td>\n",
       "      <td>1</td>\n",
       "      <td>713.0</td>\n",
       "      <td>1120.0</td>\n",
       "      <td>407.0</td>\n",
       "      <td>713.0</td>\n",
       "      <td>1120.0</td>\n",
       "    </tr>\n",
       "    <tr>\n",
       "      <th>113034</th>\n",
       "      <td>2021-12-31</td>\n",
       "      <td>31</td>\n",
       "      <td>December</td>\n",
       "      <td>2021</td>\n",
       "      <td>33</td>\n",
       "      <td>Young Adults (25-34)</td>\n",
       "      <td>1</td>\n",
       "      <td>F</td>\n",
       "      <td>Australia</td>\n",
       "      <td>Bikes</td>\n",
       "      <td>1</td>\n",
       "      <td>1252.0</td>\n",
       "      <td>2295.0</td>\n",
       "      <td>1043.0</td>\n",
       "      <td>1252.0</td>\n",
       "      <td>2295.0</td>\n",
       "    </tr>\n",
       "    <tr>\n",
       "      <th>113035</th>\n",
       "      <td>2021-12-31</td>\n",
       "      <td>31</td>\n",
       "      <td>December</td>\n",
       "      <td>2021</td>\n",
       "      <td>44</td>\n",
       "      <td>Adults (35-64)</td>\n",
       "      <td>1</td>\n",
       "      <td>M</td>\n",
       "      <td>Australia</td>\n",
       "      <td>Bikes</td>\n",
       "      <td>1</td>\n",
       "      <td>713.0</td>\n",
       "      <td>1120.0</td>\n",
       "      <td>407.0</td>\n",
       "      <td>713.0</td>\n",
       "      <td>1120.0</td>\n",
       "    </tr>\n",
       "  </tbody>\n",
       "</table>\n",
       "<p>113036 rows × 16 columns</p>\n",
       "</div>"
      ],
      "text/plain": [
       "             Date  Day     Month  Year  Customer_Age             Age_Group  \\\n",
       "0      2017-01-01    1   January  2017            17           Youth (<25)   \n",
       "1      2017-01-01    1   January  2017            23           Youth (<25)   \n",
       "2      2017-01-01    1   January  2017            33  Young Adults (25-34)   \n",
       "3      2017-01-01    1   January  2017            39        Adults (35-64)   \n",
       "4      2017-01-01    1   January  2017            42        Adults (35-64)   \n",
       "...           ...  ...       ...   ...           ...                   ...   \n",
       "113031 2021-12-31   31  December  2021            52        Adults (35-64)   \n",
       "113032 2021-12-31   31  December  2021            25  Young Adults (25-34)   \n",
       "113033 2021-12-31   31  December  2021            26  Young Adults (25-34)   \n",
       "113034 2021-12-31   31  December  2021            33  Young Adults (25-34)   \n",
       "113035 2021-12-31   31  December  2021            44        Adults (35-64)   \n",
       "\n",
       "        AgeGroupNumber Customer_Gender         Country Product_Category  \\\n",
       "0                    1               M          canada            Bikes   \n",
       "1                    1               M       Australia            Bikes   \n",
       "2                    1               F          France            Bikes   \n",
       "3                    1               M   United States            Bikes   \n",
       "4                    1               M   United States            Bikes   \n",
       "...                ...             ...             ...              ...   \n",
       "113031               1               F  United Kingdom            Bikes   \n",
       "113032               1               F         Germany            Bikes   \n",
       "113033               1               M       Australia            Bikes   \n",
       "113034               1               F       Australia            Bikes   \n",
       "113035               1               M       Australia            Bikes   \n",
       "\n",
       "        Order_Quantity  Unit_Cost  Unit_Price  Profit    Cost  Revenue  \n",
       "0                    2     1519.0      2443.0  1848.0  3038.0   4886.0  \n",
       "1                    2     1252.0      2295.0  2086.0  2504.0   4590.0  \n",
       "2                    2     2171.0      3578.0  2814.0  4342.0   7156.0  \n",
       "3                    2      713.0      1120.0   814.0  1426.0   2240.0  \n",
       "4                    2      344.0       540.0   392.0   688.0   1080.0  \n",
       "...                ...        ...         ...     ...     ...      ...  \n",
       "113031               2     1555.0      2443.0  1776.0  3110.0   4886.0  \n",
       "113032               1      713.0      1120.0   407.0   713.0   1120.0  \n",
       "113033               1      713.0      1120.0   407.0   713.0   1120.0  \n",
       "113034               1     1252.0      2295.0  1043.0  1252.0   2295.0  \n",
       "113035               1      713.0      1120.0   407.0   713.0   1120.0  \n",
       "\n",
       "[113036 rows x 16 columns]"
      ]
     },
     "execution_count": 10,
     "metadata": {},
     "output_type": "execute_result"
    }
   ],
   "source": [
    "sales_df.rename(columns={\"Age_Group_NUMBER\":\"AgeGroupNumber\"})"
   ]
  },
  {
   "cell_type": "markdown",
   "metadata": {},
   "source": [
    "Checking for wrong spellings"
   ]
  },
  {
   "cell_type": "code",
   "execution_count": 11,
   "metadata": {},
   "outputs": [
    {
     "data": {
      "text/plain": [
       "array(['canada', 'Australia', 'France', 'United States', 'United Kingdom',\n",
       "       'Germany'], dtype=object)"
      ]
     },
     "execution_count": 11,
     "metadata": {},
     "output_type": "execute_result"
    }
   ],
   "source": [
    "sales_df[\"Country\"].unique()"
   ]
  },
  {
   "cell_type": "markdown",
   "metadata": {},
   "source": [
    "Canada begins with a small c so we'll change it to a capital C"
   ]
  },
  {
   "cell_type": "code",
   "execution_count": 15,
   "metadata": {},
   "outputs": [
    {
     "data": {
      "text/plain": [
       "array(['Canada', 'Australia', 'France', 'United States', 'United Kingdom',\n",
       "       'Germany'], dtype=object)"
      ]
     },
     "execution_count": 15,
     "metadata": {},
     "output_type": "execute_result"
    }
   ],
   "source": [
    "sales_df[\"Country\"].replace({\"canada\":\"Canada\"},inplace=True)\n",
    "sales_df[\"Country\"].unique()"
   ]
  },
  {
   "cell_type": "markdown",
   "metadata": {},
   "source": [
    "Finding the profit made by each age group"
   ]
  },
  {
   "cell_type": "code",
   "execution_count": 18,
   "metadata": {},
   "outputs": [
    {
     "data": {
      "text/html": [
       "<div>\n",
       "<style scoped>\n",
       "    .dataframe tbody tr th:only-of-type {\n",
       "        vertical-align: middle;\n",
       "    }\n",
       "\n",
       "    .dataframe tbody tr th {\n",
       "        vertical-align: top;\n",
       "    }\n",
       "\n",
       "    .dataframe thead th {\n",
       "        text-align: right;\n",
       "    }\n",
       "</style>\n",
       "<table border=\"1\" class=\"dataframe\">\n",
       "  <thead>\n",
       "    <tr style=\"text-align: right;\">\n",
       "      <th></th>\n",
       "      <th>Age_Group</th>\n",
       "      <th>Profit</th>\n",
       "    </tr>\n",
       "  </thead>\n",
       "  <tbody>\n",
       "    <tr>\n",
       "      <th>0</th>\n",
       "      <td>Adults (35-64)</td>\n",
       "      <td>21061305.0</td>\n",
       "    </tr>\n",
       "    <tr>\n",
       "      <th>2</th>\n",
       "      <td>Young Adults (25-34)</td>\n",
       "      <td>15042052.0</td>\n",
       "    </tr>\n",
       "    <tr>\n",
       "      <th>3</th>\n",
       "      <td>Youth (&lt;25)</td>\n",
       "      <td>5853230.0</td>\n",
       "    </tr>\n",
       "    <tr>\n",
       "      <th>1</th>\n",
       "      <td>Seniors (64+)</td>\n",
       "      <td>169823.0</td>\n",
       "    </tr>\n",
       "  </tbody>\n",
       "</table>\n",
       "</div>"
      ],
      "text/plain": [
       "              Age_Group      Profit\n",
       "0        Adults (35-64)  21061305.0\n",
       "2  Young Adults (25-34)  15042052.0\n",
       "3           Youth (<25)   5853230.0\n",
       "1         Seniors (64+)    169823.0"
      ]
     },
     "execution_count": 18,
     "metadata": {},
     "output_type": "execute_result"
    }
   ],
   "source": [
    "\n",
    "grp1 = sales_df.groupby([\"Age_Group\"])\n",
    "df2 = grp1[\"Profit\"].sum().reset_index().rename(columns={'Profit': 'Profit'})\n",
    "df3 = df2.sort_values(by= \"Profit\", ascending= False)\n",
    "df3.head()"
   ]
  },
  {
   "cell_type": "markdown",
   "metadata": {},
   "source": [
    "How to convert a column into a list"
   ]
  },
  {
   "cell_type": "code",
   "execution_count": 22,
   "metadata": {},
   "outputs": [
    {
     "data": {
      "text/plain": [
       "[21061305.0, 15042052.0, 5853230.0, 169823.0]"
      ]
     },
     "execution_count": 22,
     "metadata": {},
     "output_type": "execute_result"
    }
   ],
   "source": [
    "a = df3[\"Age_Group\"].tolist()\n",
    "b = df3[\"Profit\"].tolist()\n",
    "b"
   ]
  },
  {
   "cell_type": "markdown",
   "metadata": {},
   "source": [
    "Now that we have a list, lets plot an horizontal bar chart with it"
   ]
  },
  {
   "cell_type": "code",
   "execution_count": 23,
   "metadata": {},
   "outputs": [
    {
     "data": {
      "image/png": "[encoded data removed]",
      "text/plain": [
       "<Figure size 640x480 with 1 Axes>"
      ]
     },
     "metadata": {},
     "output_type": "display_data"
    }
   ],
   "source": [
    "style.use(\"ggplot\")\n",
    "a = df2[\"Age_Group\"].tolist()\n",
    "b = df2[\"Profit\"].tolist()\n",
    "plt.barh(a, b, color = \"g\")\n",
    "plt.ylabel(\"Age Group\")\n",
    "plt.xlabel(\"Profit\")\n",
    "plt.title(\"Customer Segmentation by Profit\")\n",
    "plt.show()"
   ]
  },
  {
   "cell_type": "markdown",
   "metadata": {},
   "source": [
    "This dataset was intended for analysis to identify the effects of different Age Group on revenue and profit\n",
    "And from our analyis, we've seen that adults between ages 35 and 64 drive more sales and in return bring more profit."
   ]
  },
  {
   "cell_type": "markdown",
   "metadata": {},
   "source": [
    "Using a vertical bar chart, let's do another analysis to see how many of each products were sold.\n"
   ]
  },
  {
   "cell_type": "code",
   "execution_count": 25,
   "metadata": {},
   "outputs": [
    {
     "data": {
      "text/html": [
       "<div>\n",
       "<style scoped>\n",
       "    .dataframe tbody tr th:only-of-type {\n",
       "        vertical-align: middle;\n",
       "    }\n",
       "\n",
       "    .dataframe tbody tr th {\n",
       "        vertical-align: top;\n",
       "    }\n",
       "\n",
       "    .dataframe thead th {\n",
       "        text-align: right;\n",
       "    }\n",
       "</style>\n",
       "<table border=\"1\" class=\"dataframe\">\n",
       "  <thead>\n",
       "    <tr style=\"text-align: right;\">\n",
       "      <th></th>\n",
       "      <th>Product_Category</th>\n",
       "      <th>Order_Quantity</th>\n",
       "    </tr>\n",
       "  </thead>\n",
       "  <tbody>\n",
       "    <tr>\n",
       "      <th>1</th>\n",
       "      <td>Bikes</td>\n",
       "      <td>36411</td>\n",
       "    </tr>\n",
       "    <tr>\n",
       "      <th>2</th>\n",
       "      <td>Clothing</td>\n",
       "      <td>254743</td>\n",
       "    </tr>\n",
       "    <tr>\n",
       "      <th>0</th>\n",
       "      <td>Accessories</td>\n",
       "      <td>1054162</td>\n",
       "    </tr>\n",
       "  </tbody>\n",
       "</table>\n",
       "</div>"
      ],
      "text/plain": [
       "  Product_Category  Order_Quantity\n",
       "1            Bikes           36411\n",
       "2         Clothing          254743\n",
       "0      Accessories         1054162"
      ]
     },
     "execution_count": 25,
     "metadata": {},
     "output_type": "execute_result"
    }
   ],
   "source": [
    "# Grouping product category and looking for the sum of each category\n",
    "\n",
    "grp2 = sales_df.groupby([\"Product_Category\"])\n",
    "df3 = grp2[\"Order_Quantity\"].sum().reset_index().rename(columns={'Order_Quantity': 'Order_Quantity'})\n",
    "df3 = df3.sort_values(by= \"Order_Quantity\", ascending= True)\n",
    "df3.head()"
   ]
  },
  {
   "cell_type": "code",
   "execution_count": 26,
   "metadata": {},
   "outputs": [
    {
     "data": {
      "image/png": "[encoded data removed]",
      "text/plain": [
       "<Figure size 640x480 with 1 Axes>"
      ]
     },
     "metadata": {},
     "output_type": "display_data"
    }
   ],
   "source": [
    "# Plotting the bar chart\n",
    "\n",
    "style.use(\"fivethirtyeight\")\n",
    "c = df3[\"Product_Category\"].tolist()\n",
    "d = df3[\"Order_Quantity\"].tolist()\n",
    "plt.bar(c, d, color = \"g\")\n",
    "plt.ylabel(\"Order Quantity\")\n",
    "plt.xlabel(\"Product Category\")\n",
    "plt.title(\"Order Quantity Count\")\n",
    "plt.show()"
   ]
  },
  {
   "cell_type": "code",
   "execution_count": 27,
   "metadata": {},
   "outputs": [],
   "source": [
    "# This is the file we'll use in power bi\n",
    "sales_df.to_csv(\"./clean_product_sales\")"
   ]
  }
 ],
 "metadata": {
  "kernelspec": {
   "display_name": "Python 3",
   "language": "python",
   "name": "python3"
  },
  "language_info": {
   "codemirror_mode": {
    "name": "ipython",
    "version": 3
   },
   "file_extension": ".py",
   "mimetype": "text/x-python",
   "name": "python",
   "nbconvert_exporter": "python",
   "pygments_lexer": "ipython3",
   "version": "3.12.0"
  }
 },
 "nbformat": 4,
 "nbformat_minor": 2
}
